{
 "cells": [
  {
   "cell_type": "code",
   "execution_count": 2,
   "id": "b0722995",
   "metadata": {},
   "outputs": [],
   "source": [
    "import numpy as np"
   ]
  },
  {
   "cell_type": "code",
   "execution_count": 2,
   "id": "648f3056",
   "metadata": {},
   "outputs": [
    {
     "ename": "SyntaxError",
     "evalue": "incomplete input (534232437.py, line 1)",
     "output_type": "error",
     "traceback": [
      "  \u001b[36mCell\u001b[39m\u001b[36m \u001b[39m\u001b[32mIn[2]\u001b[39m\u001b[32m, line 1\u001b[39m\n\u001b[31m    \u001b[39m\u001b[31mdef linear_regression_gradient_descent(X: np.ndarray, y: np.ndarray, alpha: float, iterations: int) -> np.ndarray:\u001b[39m\n                                                                                                                      ^\n\u001b[31mSyntaxError\u001b[39m\u001b[31m:\u001b[39m incomplete input\n"
     ]
    }
   ],
   "source": [
    "def linear_regression_gradient_descent(X: np.ndarray, y: np.ndarray, alpha: float, iterations: int) -> np.ndarray:"
   ]
  },
  {
   "cell_type": "code",
   "execution_count": null,
   "id": "cecf8908",
   "metadata": {},
   "outputs": [
    {
     "ename": "TabError",
     "evalue": "inconsistent use of tabs and spaces in indentation (<string>, line 6)",
     "output_type": "error",
     "traceback": [
      "  \u001b[36mFile \u001b[39m\u001b[32m<string>:6\u001b[39m\n\u001b[31m    \u001b[39m\u001b[31mm, n = X.shape\u001b[39m\n                  ^\n\u001b[31mTabError\u001b[39m\u001b[31m:\u001b[39m inconsistent use of tabs and spaces in indentation\n"
     ]
    }
   ],
   "source": [
    "nw=len(X[0])\n",
    "w=np.rand.random(nw)\n",
    "for _ in range(iterations):\n",
    "        \n",
    "\n",
    "\tm, n = X.shape\n",
    "\ttheta = np.zeros((n, 1))\n",
    "\treturn theta"
   ]
  },
  {
   "cell_type": "code",
   "execution_count": 10,
   "id": "f1de140c",
   "metadata": {},
   "outputs": [
    {
     "data": {
      "text/plain": [
       "array([0.12886335])"
      ]
     },
     "execution_count": 10,
     "metadata": {},
     "output_type": "execute_result"
    }
   ],
   "source": [
    "w=np.random.rand(1)\n",
    "w.flatten()"
   ]
  },
  {
   "cell_type": "code",
   "execution_count": 6,
   "id": "06306ed3",
   "metadata": {},
   "outputs": [
    {
     "name": "stdout",
     "output_type": "stream",
     "text": [
      "[1 2 3]\n",
      "(3,)\n"
     ]
    }
   ],
   "source": [
    "X = np.array([[1, 1], [1, 2], [1, 3]])\n",
    "X=X[:,1]\n",
    "print(X)\n",
    "print(X.shape)"
   ]
  },
  {
   "cell_type": "code",
   "execution_count": null,
   "id": "e8a75b99",
   "metadata": {},
   "outputs": [],
   "source": []
  }
 ],
 "metadata": {
  "kernelspec": {
   "display_name": "Python 3",
   "language": "python",
   "name": "python3"
  },
  "language_info": {
   "codemirror_mode": {
    "name": "ipython",
    "version": 3
   },
   "file_extension": ".py",
   "mimetype": "text/x-python",
   "name": "python",
   "nbconvert_exporter": "python",
   "pygments_lexer": "ipython3",
   "version": "3.12.8"
  }
 },
 "nbformat": 4,
 "nbformat_minor": 5
}
